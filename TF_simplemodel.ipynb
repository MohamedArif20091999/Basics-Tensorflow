{
  "nbformat": 4,
  "nbformat_minor": 0,
  "metadata": {
    "colab": {
      "name": "TF-simplemodel",
      "provenance": [],
      "collapsed_sections": []
    },
    "kernelspec": {
      "name": "python3",
      "display_name": "Python 3"
    }
  },
  "cells": [
    {
      "cell_type": "code",
      "metadata": {
        "id": "_AcNGyQcb66D",
        "colab_type": "code",
        "colab": {}
      },
      "source": [
        "from sklearn.datasets import make_moons\n",
        "\n",
        "m=1000\n",
        "X_moons,y_moons=make_moons(m,noise=0.1,random_state=42)"
      ],
      "execution_count": 0,
      "outputs": []
    },
    {
      "cell_type": "code",
      "metadata": {
        "id": "lcxZWyyCcODp",
        "colab_type": "code",
        "outputId": "ffdf8830-3def-4db5-db54-48582d04077b",
        "colab": {
          "base_uri": "https://localhost:8080/",
          "height": 34
        }
      },
      "source": [
        "X_moons.shape"
      ],
      "execution_count": 0,
      "outputs": [
        {
          "output_type": "execute_result",
          "data": {
            "text/plain": [
              "(1000, 2)"
            ]
          },
          "metadata": {
            "tags": []
          },
          "execution_count": 22
        }
      ]
    },
    {
      "cell_type": "code",
      "metadata": {
        "id": "rV_WMkUHc1cP",
        "colab_type": "code",
        "outputId": "83175ca0-1c76-4a16-9b37-80916200c896",
        "colab": {
          "base_uri": "https://localhost:8080/",
          "height": 136
        }
      },
      "source": [
        "X_moons"
      ],
      "execution_count": 0,
      "outputs": [
        {
          "output_type": "execute_result",
          "data": {
            "text/plain": [
              "array([[-0.05146968,  0.44419863],\n",
              "       [ 1.03201691, -0.41974116],\n",
              "       [ 0.86789186, -0.25482711],\n",
              "       ...,\n",
              "       [ 1.68425911, -0.34822268],\n",
              "       [-0.9672013 ,  0.26367208],\n",
              "       [ 0.78758971,  0.61660945]])"
            ]
          },
          "metadata": {
            "tags": []
          },
          "execution_count": 23
        }
      ]
    },
    {
      "cell_type": "code",
      "metadata": {
        "id": "hQL91Dric4g0",
        "colab_type": "code",
        "outputId": "143943b8-8609-4ac8-b99e-37b7345dffee",
        "colab": {
          "base_uri": "https://localhost:8080/",
          "height": 265
        }
      },
      "source": [
        "import matplotlib.pyplot as plt\n",
        "\n",
        "plt.plot(X_moons[y_moons == 1, 0], X_moons[y_moons == 1, 1], 'go', label=\"Positive\")\n",
        "plt.plot(X_moons[y_moons == 0, 0], X_moons[y_moons == 0, 1], 'r^', label=\"Negative\")\n",
        "plt.legend()\n",
        "plt.show()"
      ],
      "execution_count": 0,
      "outputs": [
        {
          "output_type": "display_data",
          "data": {
            "image/png": "[encoded data removed]",
            "text/plain": [
              "<Figure size 432x288 with 1 Axes>"
            ]
          },
          "metadata": {
            "tags": []
          }
        }
      ]
    },
    {
      "cell_type": "code",
      "metadata": {
        "id": "-Yz97l01c9wm",
        "colab_type": "code",
        "colab": {}
      },
      "source": [
        "import numpy as np\n",
        "\n",
        "X_moons_with_bias=np.c_[np.ones((m,1)),X_moons]"
      ],
      "execution_count": 0,
      "outputs": []
    },
    {
      "cell_type": "code",
      "metadata": {
        "id": "Y9tmqEPldwZ-",
        "colab_type": "code",
        "outputId": "e19c3d7a-b825-4711-9214-f41e7485a129",
        "colab": {
          "base_uri": "https://localhost:8080/",
          "height": 102
        }
      },
      "source": [
        "X_moons_with_bias[:5]"
      ],
      "execution_count": 0,
      "outputs": [
        {
          "output_type": "execute_result",
          "data": {
            "text/plain": [
              "array([[ 1.        , -0.05146968,  0.44419863],\n",
              "       [ 1.        ,  1.03201691, -0.41974116],\n",
              "       [ 1.        ,  0.86789186, -0.25482711],\n",
              "       [ 1.        ,  0.288851  , -0.44866862],\n",
              "       [ 1.        , -0.83343911,  0.53505665]])"
            ]
          },
          "metadata": {
            "tags": []
          },
          "execution_count": 26
        }
      ]
    },
    {
      "cell_type": "code",
      "metadata": {
        "id": "_8Fn-Gfrd4Zx",
        "colab_type": "code",
        "colab": {}
      },
      "source": [
        "\n",
        "y_moons_column_vector=y_moons.reshape(-1,1)"
      ],
      "execution_count": 0,
      "outputs": []
    },
    {
      "cell_type": "code",
      "metadata": {
        "id": "Bj9ccvAheIun",
        "colab_type": "code",
        "colab": {}
      },
      "source": [
        "test_ratio = 0.2\n",
        "test_size = int(m * test_ratio)\n",
        "X_train = X_moons_with_bias[:-test_size]\n",
        "X_test = X_moons_with_bias[-test_size:]\n",
        "y_train = y_moons_column_vector[:-test_size]\n",
        "y_test = y_moons_column_vector[-test_size:]"
      ],
      "execution_count": 0,
      "outputs": []
    },
    {
      "cell_type": "code",
      "metadata": {
        "id": "EVp03ujReQEQ",
        "colab_type": "code",
        "colab": {}
      },
      "source": [
        "def random_batch(X_train,y_train,batch_size):\n",
        "  rnd_indices=np.random.randint(0,len(X_train),batch_size)\n",
        "  X_batch=X_train[rnd_indices]\n",
        "  y_batch=y_train[rnd_indices]\n",
        "  return X_batch,y_batch"
      ],
      "execution_count": 0,
      "outputs": []
    },
    {
      "cell_type": "code",
      "metadata": {
        "id": "8YsxESwnfZ0E",
        "colab_type": "code",
        "outputId": "80f8934a-fb80-4b55-dcce-0e57a3bd39e3",
        "colab": {
          "base_uri": "https://localhost:8080/",
          "height": 102
        }
      },
      "source": [
        "X_batch,y_batch=random_batch(X_train,y_train,5)\n",
        "X_batch\n"
      ],
      "execution_count": 0,
      "outputs": [
        {
          "output_type": "execute_result",
          "data": {
            "text/plain": [
              "array([[ 1.        , -0.78372601,  0.66224335],\n",
              "       [ 1.        , -0.29183503,  1.00435872],\n",
              "       [ 1.        ,  1.83518736,  0.03710472],\n",
              "       [ 1.        ,  0.38886778, -0.31150772],\n",
              "       [ 1.        ,  0.23948453,  1.10749872]])"
            ]
          },
          "metadata": {
            "tags": []
          },
          "execution_count": 30
        }
      ]
    },
    {
      "cell_type": "code",
      "metadata": {
        "id": "fwryJqirgN7i",
        "colab_type": "code",
        "outputId": "a07e65be-f5c8-4c45-9760-eba31b34b686",
        "colab": {
          "base_uri": "https://localhost:8080/",
          "height": 102
        }
      },
      "source": [
        "y_batch"
      ],
      "execution_count": 0,
      "outputs": [
        {
          "output_type": "execute_result",
          "data": {
            "text/plain": [
              "array([[0],\n",
              "       [0],\n",
              "       [1],\n",
              "       [1],\n",
              "       [0]])"
            ]
          },
          "metadata": {
            "tags": []
          },
          "execution_count": 31
        }
      ]
    },
    {
      "cell_type": "code",
      "metadata": {
        "id": "decctyragXv7",
        "colab_type": "code",
        "colab": {}
      },
      "source": [
        "n_inputs=2"
      ],
      "execution_count": 0,
      "outputs": []
    },
    {
      "cell_type": "code",
      "metadata": {
        "id": "5_nkeIFDgott",
        "colab_type": "code",
        "colab": {}
      },
      "source": [
        "import tensorflow as tf\n",
        "\n",
        "X=tf.placeholder(tf.float32,shape=(None,n_inputs+1),name=\"X\")\n",
        "y=tf.placeholder(tf.float32,shape=(None,1),name=\"y\")\n",
        "theta=tf.Variable(tf.random_uniform([n_inputs+1,1],-1.0,1.0,seed=42),name=\"theta\")\n",
        "logits=tf.matmul(X,theta,name=\"logits\")\n",
        "y_probs=1/(1+tf.exp(-logits))"
      ],
      "execution_count": 0,
      "outputs": []
    },
    {
      "cell_type": "code",
      "metadata": {
        "id": "g597v6ktrOxt",
        "colab_type": "code",
        "colab": {}
      },
      "source": [
        "y_probs=tf.sigmoid(logits)\n",
        "\n",
        "\n"
      ],
      "execution_count": 0,
      "outputs": []
    },
    {
      "cell_type": "code",
      "metadata": {
        "id": "f3zD-_r_riZC",
        "colab_type": "code",
        "outputId": "295f2c8c-f6ab-403f-99cf-c0b4fe98dd84",
        "colab": {
          "base_uri": "https://localhost:8080/",
          "height": 88
        }
      },
      "source": [
        "loss=tf.losses.log_loss(y,y_probs)"
      ],
      "execution_count": 0,
      "outputs": [
        {
          "output_type": "stream",
          "text": [
            "WARNING:tensorflow:From /usr/local/lib/python3.6/dist-packages/tensorflow_core/python/ops/losses/losses_impl.py:121: where (from tensorflow.python.ops.array_ops) is deprecated and will be removed in a future version.\n",
            "Instructions for updating:\n",
            "Use tf.where in 2.0, which has the same broadcast rule as np.where\n"
          ],
          "name": "stdout"
        }
      ]
    },
    {
      "cell_type": "code",
      "metadata": {
        "id": "ykxNLLxmryod",
        "colab_type": "code",
        "colab": {}
      },
      "source": [
        "learning_rate=0.1\n",
        "optimizer=tf.train.GradientDescentOptimizer(learning_rate=learning_rate)\n",
        "training_op=optimizer.minimize(loss)\n",
        "init = tf.global_variables_initializer()\n"
      ],
      "execution_count": 0,
      "outputs": []
    },
    {
      "cell_type": "code",
      "metadata": {
        "id": "dXNLUtxxsVvD",
        "colab_type": "code",
        "outputId": "e23a6c09-7d67-4994-ba69-eb350e4fe1eb",
        "colab": {
          "base_uri": "https://localhost:8080/",
          "height": 187
        }
      },
      "source": [
        "n_epochs = 1000\n",
        "batch_size = 50\n",
        "n_batches = int(np.ceil(m / batch_size))\n",
        "\n",
        "with tf.Session() as sess:\n",
        "    sess.run(init)\n",
        "\n",
        "    for epoch in range(n_epochs):\n",
        "        for batch_index in range(n_batches):\n",
        "            X_batch, y_batch = random_batch(X_train, y_train, batch_size)\n",
        "            sess.run(training_op, feed_dict={X: X_batch, y: y_batch})\n",
        "        loss_val = loss.eval({X: X_test, y: y_test})\n",
        "        if epoch % 100 == 0:\n",
        "            print(\"Epoch:\", epoch, \"\\tLoss:\", loss_val)\n",
        "\n",
        "    y_proba_val = y_probs.eval(feed_dict={X: X_test, y: y_test})"
      ],
      "execution_count": 0,
      "outputs": [
        {
          "output_type": "stream",
          "text": [
            "Epoch: 0 \tLoss: 0.67256576\n",
            "Epoch: 100 \tLoss: 0.27287525\n",
            "Epoch: 200 \tLoss: 0.2737775\n",
            "Epoch: 300 \tLoss: 0.27524284\n",
            "Epoch: 400 \tLoss: 0.27488515\n",
            "Epoch: 500 \tLoss: 0.27313358\n",
            "Epoch: 600 \tLoss: 0.27361763\n",
            "Epoch: 700 \tLoss: 0.2739679\n",
            "Epoch: 800 \tLoss: 0.2746811\n",
            "Epoch: 900 \tLoss: 0.27396595\n"
          ],
          "name": "stdout"
        }
      ]
    },
    {
      "cell_type": "code",
      "metadata": {
        "id": "jrhc7FNytVd2",
        "colab_type": "code",
        "outputId": "34b87382-75fe-466a-c189-16b860d362f7",
        "colab": {
          "base_uri": "https://localhost:8080/",
          "height": 102
        }
      },
      "source": [
        "y_proba_val[:5]\n"
      ],
      "execution_count": 0,
      "outputs": [
        {
          "output_type": "execute_result",
          "data": {
            "text/plain": [
              "array([[0.60225797],\n",
              "       [0.7025005 ],\n",
              "       [0.5728079 ],\n",
              "       [0.99577373],\n",
              "       [0.51777345]], dtype=float32)"
            ]
          },
          "metadata": {
            "tags": []
          },
          "execution_count": 45
        }
      ]
    },
    {
      "cell_type": "code",
      "metadata": {
        "id": "JWOsMZn9tvmZ",
        "colab_type": "code",
        "outputId": "4dee8c31-8733-429c-8df3-42aec5cd15f0",
        "colab": {
          "base_uri": "https://localhost:8080/",
          "height": 102
        }
      },
      "source": [
        "y_pred = (y_proba_val >= 0.5)\n",
        "y_pred[:5]"
      ],
      "execution_count": 0,
      "outputs": [
        {
          "output_type": "execute_result",
          "data": {
            "text/plain": [
              "array([[ True],\n",
              "       [ True],\n",
              "       [ True],\n",
              "       [ True],\n",
              "       [ True]])"
            ]
          },
          "metadata": {
            "tags": []
          },
          "execution_count": 46
        }
      ]
    },
    {
      "cell_type": "code",
      "metadata": {
        "id": "KgBskf6gt6PQ",
        "colab_type": "code",
        "outputId": "ca4d6388-486f-4861-bf96-73f09e00b74e",
        "colab": {
          "base_uri": "https://localhost:8080/",
          "height": 265
        }
      },
      "source": [
        "y_pred_idx = y_pred.reshape(-1) # a 1D array rather than a column vector\n",
        "plt.plot(X_test[y_pred_idx, 1], X_test[y_pred_idx, 2], 'go', label=\"Positive\")\n",
        "plt.plot(X_test[~y_pred_idx, 1], X_test[~y_pred_idx, 2], 'r^', label=\"Negative\")\n",
        "plt.legend()\n",
        "plt.show()"
      ],
      "execution_count": 0,
      "outputs": [
        {
          "output_type": "display_data",
          "data": {
            "image/png": "[encoded data removed]",
            "text/plain": [
              "<Figure size 432x288 with 1 Axes>"
            ]
          },
          "metadata": {
            "tags": []
          }
        }
      ]
    },
    {
      "cell_type": "code",
      "metadata": {
        "id": "DDLOQWnquCsn",
        "colab_type": "code",
        "colab": {}
      },
      "source": [
        ""
      ],
      "execution_count": 0,
      "outputs": []
    },
    {
      "cell_type": "markdown",
      "metadata": {
        "id": "8paGLKD0ue3L",
        "colab_type": "text"
      },
      "source": [
        "Pretty Bad because we used logistic model(which draws a decision boundary)!!"
      ]
    },
    {
      "cell_type": "code",
      "metadata": {
        "id": "ugjAvtwPuonH",
        "colab_type": "code",
        "colab": {}
      },
      "source": [
        ""
      ],
      "execution_count": 0,
      "outputs": []
    }
  ]
}